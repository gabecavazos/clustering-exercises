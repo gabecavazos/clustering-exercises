{
 "cells": [
  {
   "cell_type": "code",
   "execution_count": 4,
   "id": "f97fce1b-4172-4e60-8745-6d3a9ac2bb76",
   "metadata": {},
   "outputs": [],
   "source": [
    "import env\n",
    "import wrangle_zillow as wrangle_zillow\n",
    "import numpy as np\n",
    "import pandas as pd"
   ]
  },
  {
   "cell_type": "code",
   "execution_count": 5,
   "id": "8ef967b4-0271-46d0-8242-3deea90c0180",
   "metadata": {},
   "outputs": [],
   "source": [
    "zillow = pd.read_csv('zillow.csv')"
   ]
  },
  {
   "cell_type": "code",
   "execution_count": null,
   "id": "cbe66d27-8eac-48f1-b400-967fd3d89c71",
   "metadata": {},
   "outputs": [],
   "source": [
    "ada"
   ]
  }
 ],
 "metadata": {
  "kernelspec": {
   "display_name": "Python 3 (ipykernel)",
   "language": "python",
   "name": "python3"
  },
  "language_info": {
   "codemirror_mode": {
    "name": "ipython",
    "version": 3
   },
   "file_extension": ".py",
   "mimetype": "text/x-python",
   "name": "python",
   "nbconvert_exporter": "python",
   "pygments_lexer": "ipython3",
   "version": "3.9.13"
  }
 },
 "nbformat": 4,
 "nbformat_minor": 5
}
